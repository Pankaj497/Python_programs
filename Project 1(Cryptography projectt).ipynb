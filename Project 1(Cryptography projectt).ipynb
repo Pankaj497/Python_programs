{
 "cells": [
  {
   "cell_type": "markdown",
   "metadata": {},
   "source": []
  },
  {
   "cell_type": "code",
   "execution_count": null,
   "metadata": {},
   "outputs": [],
   "source": []
  },
  {
   "cell_type": "markdown",
   "metadata": {},
   "source": [
    "# Project1\n",
    "#write a python program which converts,any given text to chiper text and when every text is available it \n",
    "should convey it back to thr normal message."
   ]
  },
  {
   "cell_type": "markdown",
   "metadata": {},
   "source": [
    "step1:->which Library to use to convert a Normal text to chiper Text"
   ]
  },
  {
   "cell_type": "markdown",
   "metadata": {},
   "source": [
    "step2:-> Take input from the user and convert it into Chiper text "
   ]
  },
  {
   "cell_type": "markdown",
   "metadata": {},
   "source": [
    "step3:->Display back the chipper text to user"
   ]
  },
  {
   "cell_type": "markdown",
   "metadata": {},
   "source": [
    "step4:->Load the key and  If it is the same based upon the input provided convert it to normal Text"
   ]
  },
  {
   "cell_type": "code",
   "execution_count": null,
   "metadata": {},
   "outputs": [],
   "source": []
  },
  {
   "cell_type": "markdown",
   "metadata": {},
   "source": [
    "Sol:"
   ]
  },
  {
   "cell_type": "code",
   "execution_count": 1,
   "metadata": {},
   "outputs": [
    {
     "name": "stdout",
     "output_type": "stream",
     "text": [
      "Requirement already satisfied: cryptography in c:\\users\\panka\\anaconda3\\lib\\site-packages (2.9.2)\n",
      "Requirement already satisfied: six>=1.4.1 in c:\\users\\panka\\anaconda3\\lib\\site-packages (from cryptography) (1.15.0)\n",
      "Requirement already satisfied: cffi!=1.11.3,>=1.8 in c:\\users\\panka\\anaconda3\\lib\\site-packages (from cryptography) (1.14.0)\n",
      "Requirement already satisfied: pycparser in c:\\users\\panka\\anaconda3\\lib\\site-packages (from cffi!=1.11.3,>=1.8->cryptography) (2.20)\n",
      "Note: you may need to restart the kernel to use updated packages.\n"
     ]
    }
   ],
   "source": [
    "pip install cryptography"
   ]
  },
  {
   "cell_type": "code",
   "execution_count": 12,
   "metadata": {},
   "outputs": [],
   "source": [
    "from cryptography.fernet import Fernet"
   ]
  },
  {
   "cell_type": "code",
   "execution_count": 13,
   "metadata": {},
   "outputs": [],
   "source": [
    "def generatePassKey():\n",
    "    key=Fernet.generate_key()\n",
    "    print(key)\n",
    "    print(type(key))\n",
    "    abc=open('PasswordKey.key','wb')\n",
    "    abc.write(key)\n",
    "    abc.close()"
   ]
  },
  {
   "cell_type": "code",
   "execution_count": 14,
   "metadata": {},
   "outputs": [
    {
     "name": "stdout",
     "output_type": "stream",
     "text": [
      "b'PvGZ6jv6m86lg3tN6MOizqdpjwTyUYXsKr3HGrE9nBM='\n",
      "<class 'bytes'>\n"
     ]
    }
   ],
   "source": [
    "generatePassKey()\n"
   ]
  },
  {
   "cell_type": "code",
   "execution_count": 1,
   "metadata": {},
   "outputs": [],
   "source": [
    "#then check 'PasswordKey.key' generate in home, open it"
   ]
  },
  {
   "cell_type": "code",
   "execution_count": 15,
   "metadata": {},
   "outputs": [],
   "source": [
    "def getMyKey():\n",
    "    abc=open('PasswordKey.key','rb')\n",
    "    return abc.read()"
   ]
  },
  {
   "cell_type": "code",
   "execution_count": 16,
   "metadata": {},
   "outputs": [
    {
     "data": {
      "text/plain": [
       "b'PvGZ6jv6m86lg3tN6MOizqdpjwTyUYXsKr3HGrE9nBM='"
      ]
     },
     "execution_count": 16,
     "metadata": {},
     "output_type": "execute_result"
    }
   ],
   "source": [
    "getMyKey()"
   ]
  },
  {
   "cell_type": "code",
   "execution_count": 17,
   "metadata": {},
   "outputs": [],
   "source": [
    "def getContentFromUser():\n",
    "    return input('Enter the Content you want to Encrypt is your pthon script')"
   ]
  },
  {
   "cell_type": "code",
   "execution_count": 18,
   "metadata": {},
   "outputs": [
    {
     "name": "stdout",
     "output_type": "stream",
     "text": [
      "Enter the Content you want to Encrypt is your pthon script'Hey i love LetsUpgrade'\n"
     ]
    },
    {
     "data": {
      "text/plain": [
       "\"'Hey i love LetsUpgrade'\""
      ]
     },
     "execution_count": 18,
     "metadata": {},
     "output_type": "execute_result"
    }
   ],
   "source": [
    "getContentFromUser()"
   ]
  },
  {
   "cell_type": "code",
   "execution_count": 21,
   "metadata": {},
   "outputs": [],
   "source": [
    "def encryptMessage(message_normal):\n",
    "    #Fernet is libraryname\n",
    "    key=getMyKey()\n",
    "    k=Fernet(key)\n",
    "    encrypted_Message=k.encrypt(message_normal)\n",
    "    return encrypted_Message"
   ]
  },
  {
   "cell_type": "code",
   "execution_count": 22,
   "metadata": {},
   "outputs": [
    {
     "data": {
      "text/plain": [
       "b'gAAAAABf3dJrfQtVtqOQS3S80iNymkwcO1eO03N0FYZCFSDD9hHTe6HKMpUuCyg2uNZ4WGdj7WDpUdeVlxCjGMTJSRAoa25H5Q=='"
      ]
     },
     "execution_count": 22,
     "metadata": {},
     "output_type": "execute_result"
    }
   ],
   "source": [
    "encryptMessage(b\"Hey\")\n",
    "#Data must be byte so we wite b there"
   ]
  },
  {
   "cell_type": "code",
   "execution_count": 31,
   "metadata": {},
   "outputs": [],
   "source": [
    "def decryptMessage(message_normal):\n",
    "    #Fernet is libraryname\n",
    "    key=getMyKey()\n",
    "    k=Fernet(key)\n",
    "    decrypted_Message=k.decrypt(message_normal)\n",
    "    return decrypted_Message"
   ]
  },
  {
   "cell_type": "code",
   "execution_count": 32,
   "metadata": {},
   "outputs": [
    {
     "data": {
      "text/plain": [
       "b'Hey'"
      ]
     },
     "execution_count": 32,
     "metadata": {},
     "output_type": "execute_result"
    }
   ],
   "source": [
    "decryptMessage(b'gAAAAABf3dJrfQtVtqOQS3S80iNymkwcO1eO03N0FYZCFSDD9hHTe6HKMpUuCyg2uNZ4WGdj7WDpUdeVlxCjGMTJSRAoa25H5Q==')\n",
    "\n"
   ]
  },
  {
   "cell_type": "code",
   "execution_count": 33,
   "metadata": {},
   "outputs": [
    {
     "name": "stdout",
     "output_type": "stream",
     "text": [
      "Hey do you want to\n"
     ]
    }
   ],
   "source": [
    "print('Hey do you want to')"
   ]
  },
  {
   "cell_type": "code",
   "execution_count": null,
   "metadata": {},
   "outputs": [],
   "source": []
  },
  {
   "cell_type": "code",
   "execution_count": null,
   "metadata": {},
   "outputs": [],
   "source": []
  }
 ],
 "metadata": {
  "kernelspec": {
   "display_name": "Python 3",
   "language": "python",
   "name": "python3"
  },
  "language_info": {
   "codemirror_mode": {
    "name": "ipython",
    "version": 3
   },
   "file_extension": ".py",
   "mimetype": "text/x-python",
   "name": "python",
   "nbconvert_exporter": "python",
   "pygments_lexer": "ipython3",
   "version": "3.8.3"
  }
 },
 "nbformat": 4,
 "nbformat_minor": 4
}
