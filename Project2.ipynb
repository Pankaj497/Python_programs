{
 "cells": [
  {
   "cell_type": "markdown",
   "metadata": {},
   "source": [
    "# Project 2\n",
    "sending Email to friend "
   ]
  },
  {
   "cell_type": "code",
   "execution_count": 1,
   "metadata": {},
   "outputs": [],
   "source": [
    "#A python script which we can to send EMAILS to our friends and Family members"
   ]
  },
  {
   "cell_type": "code",
   "execution_count": 2,
   "metadata": {},
   "outputs": [
    {
     "name": "stdout",
     "output_type": "stream",
     "text": [
      "Collecting emailsNote: you may need to restart the kernel to use updated packages.\n",
      "\n",
      "  Downloading emails-0.6-py2.py3-none-any.whl (56 kB)\n",
      "Collecting premailer\n",
      "  Downloading premailer-3.7.0-py2.py3-none-any.whl (18 kB)\n",
      "Requirement already satisfied: python-dateutil in c:\\users\\panka\\anaconda3\\lib\\site-packages (from emails) (2.8.1)\n",
      "Collecting cssutils\n",
      "  Downloading cssutils-1.0.2-py3-none-any.whl (406 kB)\n",
      "Requirement already satisfied: requests in c:\\users\\panka\\anaconda3\\lib\\site-packages (from emails) (2.24.0)\n",
      "Requirement already satisfied: lxml in c:\\users\\panka\\anaconda3\\lib\\site-packages (from emails) (4.5.2)\n",
      "Requirement already satisfied: chardet in c:\\users\\panka\\anaconda3\\lib\\site-packages (from emails) (3.0.4)\n",
      "Collecting cachetools\n",
      "  Downloading cachetools-4.2.0-py3-none-any.whl (12 kB)\n",
      "Collecting cssselect\n",
      "  Downloading cssselect-1.1.0-py2.py3-none-any.whl (16 kB)\n",
      "Requirement already satisfied: six>=1.5 in c:\\users\\panka\\anaconda3\\lib\\site-packages (from python-dateutil->emails) (1.15.0)\n",
      "Requirement already satisfied: certifi>=2017.4.17 in c:\\users\\panka\\anaconda3\\lib\\site-packages (from requests->emails) (2020.6.20)\n",
      "Requirement already satisfied: urllib3!=1.25.0,!=1.25.1,<1.26,>=1.21.1 in c:\\users\\panka\\anaconda3\\lib\\site-packages (from requests->emails) (1.25.9)\n",
      "Requirement already satisfied: idna<3,>=2.5 in c:\\users\\panka\\anaconda3\\lib\\site-packages (from requests->emails) (2.10)\n",
      "Installing collected packages: cssutils, cachetools, cssselect, premailer, emails\n",
      "Successfully installed cachetools-4.2.0 cssselect-1.1.0 cssutils-1.0.2 emails-0.6 premailer-3.7.0\n"
     ]
    }
   ],
   "source": [
    "pip install emails\n"
   ]
  },
  {
   "cell_type": "code",
   "execution_count": 3,
   "metadata": {},
   "outputs": [],
   "source": [
    "#2nd thing which we require is->A SMTP SERVER Address to send EMAIL VIA IT"
   ]
  },
  {
   "cell_type": "markdown",
   "metadata": {},
   "source": [
    "# Project Start"
   ]
  },
  {
   "cell_type": "code",
   "execution_count": 12,
   "metadata": {},
   "outputs": [
    {
     "ename": "TypeError",
     "evalue": "bad operand type for unary +: 'str'",
     "output_type": "error",
     "traceback": [
      "\u001b[1;31m---------------------------------------------------------------------------\u001b[0m",
      "\u001b[1;31mTypeError\u001b[0m                                 Traceback (most recent call last)",
      "\u001b[1;32m<ipython-input-12-e706ff6c0edf>\u001b[0m in \u001b[0;36m<module>\u001b[1;34m\u001b[0m\n\u001b[0;32m      8\u001b[0m \u001b[1;33m<\u001b[0m\u001b[0mp\u001b[0m\u001b[1;33m>\u001b[0m\u001b[0mChief\u001b[0m \u001b[0mRowdy\u001b[0m\u001b[1;33m,\u001b[0m\u001b[1;33m<\u001b[0m\u001b[1;33m/\u001b[0m\u001b[0mp\u001b[0m\u001b[1;33m>\u001b[0m\u001b[1;33m\u001b[0m\u001b[1;33m\u001b[0m\u001b[0m\n\u001b[0;32m      9\u001b[0m <p>Pankaj</p>'''\n\u001b[1;32m---> 10\u001b[1;33m \u001b[0msubject\u001b[0m\u001b[1;33m=\u001b[0m\u001b[1;34m\"Hey Rowdy\"\u001b[0m\u001b[1;33m+\u001b[0m\u001b[1;33m+\u001b[0m\u001b[1;34m\",you have EMAIL FROM LetsUpgrade\"\u001b[0m\u001b[1;33m\u001b[0m\u001b[1;33m\u001b[0m\u001b[0m\n\u001b[0m\u001b[0;32m     11\u001b[0m message=emails.html(html=html_text,\n\u001b[0;32m     12\u001b[0m                           \u001b[0msubject\u001b[0m\u001b[1;33m=\u001b[0m\u001b[0msubject\u001b[0m\u001b[1;33m,\u001b[0m\u001b[1;33m\u001b[0m\u001b[1;33m\u001b[0m\u001b[0m\n",
      "\u001b[1;31mTypeError\u001b[0m: bad operand type for unary +: 'str'"
     ]
    }
   ],
   "source": [
    "import emails\n",
    "html_text='''<p>Hey Rowdy,</p>\n",
    "<p>How are you this is Pankaj From Bhosari,</p>\n",
    "<p>Chief Rowdy at LU!!</p>\n",
    "<p>Love Teaching you all, hope you like this project</p>\n",
    "<p><br></p>\n",
    "<p>Regards,</p>\n",
    "<p>Chief Rowdy,</p>\n",
    "<p>Pankaj</p>'''\n",
    "subject=\"Hey Rowdy,you have EMAIL FROM LetsUpgrade\"\n",
    "message=emails.html(html=html_text,\n",
    "                          subject=subject,\n",
    "                           mail_from=('Rowdy LetsUpgrade','store&somestore.com'))"
   ]
  },
  {
   "cell_type": "code",
   "execution_count": 8,
   "metadata": {},
   "outputs": [],
   "source": [
    "mail_via_python = message.send(to='gewewek505@ahhtee.com',smtp={'host':'smtp.gmail.com', \n",
    "                                                                'timeout':5,'port':587,'user':'pankajgadhave497@gmail.com',\n",
    "                                                                'password':'P9665718739','tls':True})\n"
   ]
  },
  {
   "cell_type": "code",
   "execution_count": 9,
   "metadata": {},
   "outputs": [
    {
     "data": {
      "text/plain": [
       "250"
      ]
     },
     "execution_count": 9,
     "metadata": {},
     "output_type": "execute_result"
    }
   ],
   "source": [
    "mail_via_python.status_code"
   ]
  },
  {
   "cell_type": "code",
   "execution_count": 6,
   "metadata": {},
   "outputs": [],
   "source": [
    "def sendMail(email):\n",
    "    mail_via_python = message.send(to=email,smtp={'host':'smtp.gmail.com', \n",
    "                                                                'timeout':5,'port':587,'user':'pankajgadhave497@gmail.com',\n",
    "                                                                'password':'P9665718739','tls':True})\n",
    "          \n",
    "    return mail_via_python.status_code"
   ]
  },
  {
   "cell_type": "code",
   "execution_count": 7,
   "metadata": {},
   "outputs": [
    {
     "data": {
      "text/plain": [
       "250"
      ]
     },
     "execution_count": 7,
     "metadata": {},
     "output_type": "execute_result"
    }
   ],
   "source": [
    "sendMail(\"pankajgadhave97@gmail.com\")"
   ]
  },
  {
   "cell_type": "code",
   "execution_count": null,
   "metadata": {},
   "outputs": [],
   "source": []
  }
 ],
 "metadata": {
  "kernelspec": {
   "display_name": "Python 3",
   "language": "python",
   "name": "python3"
  },
  "language_info": {
   "codemirror_mode": {
    "name": "ipython",
    "version": 3
   },
   "file_extension": ".py",
   "mimetype": "text/x-python",
   "name": "python",
   "nbconvert_exporter": "python",
   "pygments_lexer": "ipython3",
   "version": "3.8.3"
  }
 },
 "nbformat": 4,
 "nbformat_minor": 4
}
