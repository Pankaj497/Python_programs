{
 "cells": [
  {
   "cell_type": "raw",
   "metadata": {},
   "source": [
    " Q.  Explain Machine Learning With Your Own Example?\n",
    "Ans:  Machine Learning. Machine Learning is the field of study that gives computers the capability to learn without being \n",
    "      explicitly programmed. ML is one of the most exciting technologies that one would have ever come across. As it is evident       from  the name, it gives the computer that which makes it more similar to humans: The ability to learn.\n",
    "      \n",
    "      Examples: self-driving cars, \n",
    "                advanced web searches, \n",
    "                speech recognition."
   ]
  }
 ],
 "metadata": {
  "kernelspec": {
   "display_name": "Python 3",
   "language": "python",
   "name": "python3"
  },
  "language_info": {
   "codemirror_mode": {
    "name": "ipython",
    "version": 3
   },
   "file_extension": ".py",
   "mimetype": "text/x-python",
   "name": "python",
   "nbconvert_exporter": "python",
   "pygments_lexer": "ipython3",
   "version": "3.8.3"
  }
 },
 "nbformat": 4,
 "nbformat_minor": 4
}
